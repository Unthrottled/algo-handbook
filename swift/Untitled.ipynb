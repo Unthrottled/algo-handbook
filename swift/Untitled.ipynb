{
 "cells": [
  {
   "cell_type": "code",
   "execution_count": 1,
   "metadata": {},
   "outputs": [],
   "source": [
    "%include \"EnableIPythonDisplay.swift\""
   ]
  },
  {
   "cell_type": "code",
   "execution_count": 2,
   "metadata": {},
   "outputs": [
    {
     "data": {
      "text/plain": [
       "('inline', 'module://ipykernel.pylab.backend_inline')\n"
      ]
     },
     "execution_count": 2,
     "metadata": {},
     "output_type": "execute_result"
    }
   ],
   "source": [
    "let np = Python.import(\"numpy\")\n",
    "let plt = Python.import(\"matplotlib.pyplot\")\n",
    "IPythonDisplay.shell.enable_matplotlib(\"inline\")"
   ]
  },
  {
   "cell_type": "code",
   "execution_count": 3,
   "metadata": {},
   "outputs": [
    {
     "name": "stdout",
     "output_type": "stream",
     "text": [
      "Yeet!\r\n"
     ]
    }
   ],
   "source": [
    "print(\"Yeet!\")"
   ]
  },
  {
   "cell_type": "code",
   "execution_count": 8,
   "metadata": {},
   "outputs": [
    {
     "ename": "",
     "evalue": "",
     "output_type": "error",
     "traceback": [
      "error: <Cell 8>:1:14: error: class 'Tree' has no initializers\npublic class Tree<T> {\n             ^\n\n<Cell 8>:2:9: note: stored property 'item' without initial value prevents synthesized initializers\n    let item: T\n        ^\n\n<Cell 8>:3:9: note: stored property 'parent' without initial value prevents synthesized initializers\n    let parent: Tree\n        ^\n\n<Cell 8>:4:9: note: stored property 'leftChild' without initial value prevents synthesized initializers\n    let leftChild: Tree\n        ^\n\n<Cell 8>:5:9: note: stored property 'rightChild' without initial value prevents synthesized initializers\n    let rightChild: Tree\n        ^\n\n"
     ]
    }
   ],
   "source": [
    "public class Tree<T> {\n",
    "    let item: T\n",
    "    let parent: Tree\n",
    "    let leftChild: Tree\n",
    "    let rightChild: Tree\n",
    "}"
   ]
  },
  {
   "cell_type": "code",
   "execution_count": null,
   "metadata": {},
   "outputs": [],
   "source": []
  }
 ],
 "metadata": {
  "kernelspec": {
   "display_name": "Swift",
   "language": "swift",
   "name": "swift"
  },
  "language_info": {
   "file_extension": ".swift",
   "mimetype": "text/x-swift",
   "name": "swift",
   "version": ""
  }
 },
 "nbformat": 4,
 "nbformat_minor": 2
}
